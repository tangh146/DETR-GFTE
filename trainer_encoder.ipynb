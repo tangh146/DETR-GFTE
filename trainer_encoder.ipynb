{
 "cells": [
  {
   "cell_type": "code",
   "execution_count": 11,
   "metadata": {},
   "outputs": [
    {
     "name": "stdout",
     "output_type": "stream",
     "text": [
      "The autoreload extension is already loaded. To reload it, use:\n",
      "  %reload_ext autoreload\n"
     ]
    },
    {
     "name": "stderr",
     "output_type": "stream",
     "text": [
      "Some weights of the model checkpoint at facebook/detr-resnet-50 were not used when initializing DetrForObjectDetection: ['model.backbone.conv_encoder.model.layer1.0.downsample.1.num_batches_tracked', 'model.backbone.conv_encoder.model.layer2.0.downsample.1.num_batches_tracked', 'model.backbone.conv_encoder.model.layer3.0.downsample.1.num_batches_tracked', 'model.backbone.conv_encoder.model.layer4.0.downsample.1.num_batches_tracked']\n",
      "- This IS expected if you are initializing DetrForObjectDetection from the checkpoint of a model trained on another task or with another architecture (e.g. initializing a BertForSequenceClassification model from a BertForPreTraining model).\n",
      "- This IS NOT expected if you are initializing DetrForObjectDetection from the checkpoint of a model that you expect to be exactly identical (initializing a BertForSequenceClassification model from a BertForSequenceClassification model).\n",
      "Some weights of DetrForObjectDetection were not initialized from the model checkpoint at facebook/detr-resnet-50 and are newly initialized because the shapes did not match:\n",
      "- class_labels_classifier.bias: found shape torch.Size([92]) in the checkpoint and torch.Size([3]) in the model instantiated\n",
      "- class_labels_classifier.weight: found shape torch.Size([92, 256]) in the checkpoint and torch.Size([3, 256]) in the model instantiated\n",
      "You should probably TRAIN this model on a down-stream task to be able to use it for predictions and inference.\n"
     ]
    },
    {
     "data": {
      "text/plain": [
       "Detr(\n",
       "  (model): DetrForObjectDetection(\n",
       "    (model): DetrModel(\n",
       "      (backbone): DetrConvModel(\n",
       "        (conv_encoder): DetrConvEncoder(\n",
       "          (model): FeatureListNet(\n",
       "            (conv1): Conv2d(3, 64, kernel_size=(7, 7), stride=(2, 2), padding=(3, 3), bias=False)\n",
       "            (bn1): DetrFrozenBatchNorm2d()\n",
       "            (act1): ReLU(inplace=True)\n",
       "            (maxpool): MaxPool2d(kernel_size=3, stride=2, padding=1, dilation=1, ceil_mode=False)\n",
       "            (layer1): Sequential(\n",
       "              (0): Bottleneck(\n",
       "                (conv1): Conv2d(64, 64, kernel_size=(1, 1), stride=(1, 1), bias=False)\n",
       "                (bn1): DetrFrozenBatchNorm2d()\n",
       "                (act1): ReLU(inplace=True)\n",
       "                (conv2): Conv2d(64, 64, kernel_size=(3, 3), stride=(1, 1), padding=(1, 1), bias=False)\n",
       "                (bn2): DetrFrozenBatchNorm2d()\n",
       "                (drop_block): Identity()\n",
       "                (act2): ReLU(inplace=True)\n",
       "                (aa): Identity()\n",
       "                (conv3): Conv2d(64, 256, kernel_size=(1, 1), stride=(1, 1), bias=False)\n",
       "                (bn3): DetrFrozenBatchNorm2d()\n",
       "                (act3): ReLU(inplace=True)\n",
       "                (downsample): Sequential(\n",
       "                  (0): Conv2d(64, 256, kernel_size=(1, 1), stride=(1, 1), bias=False)\n",
       "                  (1): DetrFrozenBatchNorm2d()\n",
       "                )\n",
       "              )\n",
       "              (1): Bottleneck(\n",
       "                (conv1): Conv2d(256, 64, kernel_size=(1, 1), stride=(1, 1), bias=False)\n",
       "                (bn1): DetrFrozenBatchNorm2d()\n",
       "                (act1): ReLU(inplace=True)\n",
       "                (conv2): Conv2d(64, 64, kernel_size=(3, 3), stride=(1, 1), padding=(1, 1), bias=False)\n",
       "                (bn2): DetrFrozenBatchNorm2d()\n",
       "                (drop_block): Identity()\n",
       "                (act2): ReLU(inplace=True)\n",
       "                (aa): Identity()\n",
       "                (conv3): Conv2d(64, 256, kernel_size=(1, 1), stride=(1, 1), bias=False)\n",
       "                (bn3): DetrFrozenBatchNorm2d()\n",
       "                (act3): ReLU(inplace=True)\n",
       "              )\n",
       "              (2): Bottleneck(\n",
       "                (conv1): Conv2d(256, 64, kernel_size=(1, 1), stride=(1, 1), bias=False)\n",
       "                (bn1): DetrFrozenBatchNorm2d()\n",
       "                (act1): ReLU(inplace=True)\n",
       "                (conv2): Conv2d(64, 64, kernel_size=(3, 3), stride=(1, 1), padding=(1, 1), bias=False)\n",
       "                (bn2): DetrFrozenBatchNorm2d()\n",
       "                (drop_block): Identity()\n",
       "                (act2): ReLU(inplace=True)\n",
       "                (aa): Identity()\n",
       "                (conv3): Conv2d(64, 256, kernel_size=(1, 1), stride=(1, 1), bias=False)\n",
       "                (bn3): DetrFrozenBatchNorm2d()\n",
       "                (act3): ReLU(inplace=True)\n",
       "              )\n",
       "            )\n",
       "            (layer2): Sequential(\n",
       "              (0): Bottleneck(\n",
       "                (conv1): Conv2d(256, 128, kernel_size=(1, 1), stride=(1, 1), bias=False)\n",
       "                (bn1): DetrFrozenBatchNorm2d()\n",
       "                (act1): ReLU(inplace=True)\n",
       "                (conv2): Conv2d(128, 128, kernel_size=(3, 3), stride=(2, 2), padding=(1, 1), bias=False)\n",
       "                (bn2): DetrFrozenBatchNorm2d()\n",
       "                (drop_block): Identity()\n",
       "                (act2): ReLU(inplace=True)\n",
       "                (aa): Identity()\n",
       "                (conv3): Conv2d(128, 512, kernel_size=(1, 1), stride=(1, 1), bias=False)\n",
       "                (bn3): DetrFrozenBatchNorm2d()\n",
       "                (act3): ReLU(inplace=True)\n",
       "                (downsample): Sequential(\n",
       "                  (0): Conv2d(256, 512, kernel_size=(1, 1), stride=(2, 2), bias=False)\n",
       "                  (1): DetrFrozenBatchNorm2d()\n",
       "                )\n",
       "              )\n",
       "              (1): Bottleneck(\n",
       "                (conv1): Conv2d(512, 128, kernel_size=(1, 1), stride=(1, 1), bias=False)\n",
       "                (bn1): DetrFrozenBatchNorm2d()\n",
       "                (act1): ReLU(inplace=True)\n",
       "                (conv2): Conv2d(128, 128, kernel_size=(3, 3), stride=(1, 1), padding=(1, 1), bias=False)\n",
       "                (bn2): DetrFrozenBatchNorm2d()\n",
       "                (drop_block): Identity()\n",
       "                (act2): ReLU(inplace=True)\n",
       "                (aa): Identity()\n",
       "                (conv3): Conv2d(128, 512, kernel_size=(1, 1), stride=(1, 1), bias=False)\n",
       "                (bn3): DetrFrozenBatchNorm2d()\n",
       "                (act3): ReLU(inplace=True)\n",
       "              )\n",
       "              (2): Bottleneck(\n",
       "                (conv1): Conv2d(512, 128, kernel_size=(1, 1), stride=(1, 1), bias=False)\n",
       "                (bn1): DetrFrozenBatchNorm2d()\n",
       "                (act1): ReLU(inplace=True)\n",
       "                (conv2): Conv2d(128, 128, kernel_size=(3, 3), stride=(1, 1), padding=(1, 1), bias=False)\n",
       "                (bn2): DetrFrozenBatchNorm2d()\n",
       "                (drop_block): Identity()\n",
       "                (act2): ReLU(inplace=True)\n",
       "                (aa): Identity()\n",
       "                (conv3): Conv2d(128, 512, kernel_size=(1, 1), stride=(1, 1), bias=False)\n",
       "                (bn3): DetrFrozenBatchNorm2d()\n",
       "                (act3): ReLU(inplace=True)\n",
       "              )\n",
       "              (3): Bottleneck(\n",
       "                (conv1): Conv2d(512, 128, kernel_size=(1, 1), stride=(1, 1), bias=False)\n",
       "                (bn1): DetrFrozenBatchNorm2d()\n",
       "                (act1): ReLU(inplace=True)\n",
       "                (conv2): Conv2d(128, 128, kernel_size=(3, 3), stride=(1, 1), padding=(1, 1), bias=False)\n",
       "                (bn2): DetrFrozenBatchNorm2d()\n",
       "                (drop_block): Identity()\n",
       "                (act2): ReLU(inplace=True)\n",
       "                (aa): Identity()\n",
       "                (conv3): Conv2d(128, 512, kernel_size=(1, 1), stride=(1, 1), bias=False)\n",
       "                (bn3): DetrFrozenBatchNorm2d()\n",
       "                (act3): ReLU(inplace=True)\n",
       "              )\n",
       "            )\n",
       "            (layer3): Sequential(\n",
       "              (0): Bottleneck(\n",
       "                (conv1): Conv2d(512, 256, kernel_size=(1, 1), stride=(1, 1), bias=False)\n",
       "                (bn1): DetrFrozenBatchNorm2d()\n",
       "                (act1): ReLU(inplace=True)\n",
       "                (conv2): Conv2d(256, 256, kernel_size=(3, 3), stride=(2, 2), padding=(1, 1), bias=False)\n",
       "                (bn2): DetrFrozenBatchNorm2d()\n",
       "                (drop_block): Identity()\n",
       "                (act2): ReLU(inplace=True)\n",
       "                (aa): Identity()\n",
       "                (conv3): Conv2d(256, 1024, kernel_size=(1, 1), stride=(1, 1), bias=False)\n",
       "                (bn3): DetrFrozenBatchNorm2d()\n",
       "                (act3): ReLU(inplace=True)\n",
       "                (downsample): Sequential(\n",
       "                  (0): Conv2d(512, 1024, kernel_size=(1, 1), stride=(2, 2), bias=False)\n",
       "                  (1): DetrFrozenBatchNorm2d()\n",
       "                )\n",
       "              )\n",
       "              (1): Bottleneck(\n",
       "                (conv1): Conv2d(1024, 256, kernel_size=(1, 1), stride=(1, 1), bias=False)\n",
       "                (bn1): DetrFrozenBatchNorm2d()\n",
       "                (act1): ReLU(inplace=True)\n",
       "                (conv2): Conv2d(256, 256, kernel_size=(3, 3), stride=(1, 1), padding=(1, 1), bias=False)\n",
       "                (bn2): DetrFrozenBatchNorm2d()\n",
       "                (drop_block): Identity()\n",
       "                (act2): ReLU(inplace=True)\n",
       "                (aa): Identity()\n",
       "                (conv3): Conv2d(256, 1024, kernel_size=(1, 1), stride=(1, 1), bias=False)\n",
       "                (bn3): DetrFrozenBatchNorm2d()\n",
       "                (act3): ReLU(inplace=True)\n",
       "              )\n",
       "              (2): Bottleneck(\n",
       "                (conv1): Conv2d(1024, 256, kernel_size=(1, 1), stride=(1, 1), bias=False)\n",
       "                (bn1): DetrFrozenBatchNorm2d()\n",
       "                (act1): ReLU(inplace=True)\n",
       "                (conv2): Conv2d(256, 256, kernel_size=(3, 3), stride=(1, 1), padding=(1, 1), bias=False)\n",
       "                (bn2): DetrFrozenBatchNorm2d()\n",
       "                (drop_block): Identity()\n",
       "                (act2): ReLU(inplace=True)\n",
       "                (aa): Identity()\n",
       "                (conv3): Conv2d(256, 1024, kernel_size=(1, 1), stride=(1, 1), bias=False)\n",
       "                (bn3): DetrFrozenBatchNorm2d()\n",
       "                (act3): ReLU(inplace=True)\n",
       "              )\n",
       "              (3): Bottleneck(\n",
       "                (conv1): Conv2d(1024, 256, kernel_size=(1, 1), stride=(1, 1), bias=False)\n",
       "                (bn1): DetrFrozenBatchNorm2d()\n",
       "                (act1): ReLU(inplace=True)\n",
       "                (conv2): Conv2d(256, 256, kernel_size=(3, 3), stride=(1, 1), padding=(1, 1), bias=False)\n",
       "                (bn2): DetrFrozenBatchNorm2d()\n",
       "                (drop_block): Identity()\n",
       "                (act2): ReLU(inplace=True)\n",
       "                (aa): Identity()\n",
       "                (conv3): Conv2d(256, 1024, kernel_size=(1, 1), stride=(1, 1), bias=False)\n",
       "                (bn3): DetrFrozenBatchNorm2d()\n",
       "                (act3): ReLU(inplace=True)\n",
       "              )\n",
       "              (4): Bottleneck(\n",
       "                (conv1): Conv2d(1024, 256, kernel_size=(1, 1), stride=(1, 1), bias=False)\n",
       "                (bn1): DetrFrozenBatchNorm2d()\n",
       "                (act1): ReLU(inplace=True)\n",
       "                (conv2): Conv2d(256, 256, kernel_size=(3, 3), stride=(1, 1), padding=(1, 1), bias=False)\n",
       "                (bn2): DetrFrozenBatchNorm2d()\n",
       "                (drop_block): Identity()\n",
       "                (act2): ReLU(inplace=True)\n",
       "                (aa): Identity()\n",
       "                (conv3): Conv2d(256, 1024, kernel_size=(1, 1), stride=(1, 1), bias=False)\n",
       "                (bn3): DetrFrozenBatchNorm2d()\n",
       "                (act3): ReLU(inplace=True)\n",
       "              )\n",
       "              (5): Bottleneck(\n",
       "                (conv1): Conv2d(1024, 256, kernel_size=(1, 1), stride=(1, 1), bias=False)\n",
       "                (bn1): DetrFrozenBatchNorm2d()\n",
       "                (act1): ReLU(inplace=True)\n",
       "                (conv2): Conv2d(256, 256, kernel_size=(3, 3), stride=(1, 1), padding=(1, 1), bias=False)\n",
       "                (bn2): DetrFrozenBatchNorm2d()\n",
       "                (drop_block): Identity()\n",
       "                (act2): ReLU(inplace=True)\n",
       "                (aa): Identity()\n",
       "                (conv3): Conv2d(256, 1024, kernel_size=(1, 1), stride=(1, 1), bias=False)\n",
       "                (bn3): DetrFrozenBatchNorm2d()\n",
       "                (act3): ReLU(inplace=True)\n",
       "              )\n",
       "            )\n",
       "            (layer4): Sequential(\n",
       "              (0): Bottleneck(\n",
       "                (conv1): Conv2d(1024, 512, kernel_size=(1, 1), stride=(1, 1), bias=False)\n",
       "                (bn1): DetrFrozenBatchNorm2d()\n",
       "                (act1): ReLU(inplace=True)\n",
       "                (conv2): Conv2d(512, 512, kernel_size=(3, 3), stride=(2, 2), padding=(1, 1), bias=False)\n",
       "                (bn2): DetrFrozenBatchNorm2d()\n",
       "                (drop_block): Identity()\n",
       "                (act2): ReLU(inplace=True)\n",
       "                (aa): Identity()\n",
       "                (conv3): Conv2d(512, 2048, kernel_size=(1, 1), stride=(1, 1), bias=False)\n",
       "                (bn3): DetrFrozenBatchNorm2d()\n",
       "                (act3): ReLU(inplace=True)\n",
       "                (downsample): Sequential(\n",
       "                  (0): Conv2d(1024, 2048, kernel_size=(1, 1), stride=(2, 2), bias=False)\n",
       "                  (1): DetrFrozenBatchNorm2d()\n",
       "                )\n",
       "              )\n",
       "              (1): Bottleneck(\n",
       "                (conv1): Conv2d(2048, 512, kernel_size=(1, 1), stride=(1, 1), bias=False)\n",
       "                (bn1): DetrFrozenBatchNorm2d()\n",
       "                (act1): ReLU(inplace=True)\n",
       "                (conv2): Conv2d(512, 512, kernel_size=(3, 3), stride=(1, 1), padding=(1, 1), bias=False)\n",
       "                (bn2): DetrFrozenBatchNorm2d()\n",
       "                (drop_block): Identity()\n",
       "                (act2): ReLU(inplace=True)\n",
       "                (aa): Identity()\n",
       "                (conv3): Conv2d(512, 2048, kernel_size=(1, 1), stride=(1, 1), bias=False)\n",
       "                (bn3): DetrFrozenBatchNorm2d()\n",
       "                (act3): ReLU(inplace=True)\n",
       "              )\n",
       "              (2): Bottleneck(\n",
       "                (conv1): Conv2d(2048, 512, kernel_size=(1, 1), stride=(1, 1), bias=False)\n",
       "                (bn1): DetrFrozenBatchNorm2d()\n",
       "                (act1): ReLU(inplace=True)\n",
       "                (conv2): Conv2d(512, 512, kernel_size=(3, 3), stride=(1, 1), padding=(1, 1), bias=False)\n",
       "                (bn2): DetrFrozenBatchNorm2d()\n",
       "                (drop_block): Identity()\n",
       "                (act2): ReLU(inplace=True)\n",
       "                (aa): Identity()\n",
       "                (conv3): Conv2d(512, 2048, kernel_size=(1, 1), stride=(1, 1), bias=False)\n",
       "                (bn3): DetrFrozenBatchNorm2d()\n",
       "                (act3): ReLU(inplace=True)\n",
       "              )\n",
       "            )\n",
       "          )\n",
       "        )\n",
       "        (position_embedding): DetrSinePositionEmbedding()\n",
       "      )\n",
       "      (input_projection): Conv2d(2048, 256, kernel_size=(1, 1), stride=(1, 1))\n",
       "      (query_position_embeddings): Embedding(100, 256)\n",
       "      (encoder): DetrEncoder(\n",
       "        (layers): ModuleList(\n",
       "          (0-5): 6 x DetrEncoderLayer(\n",
       "            (self_attn): DetrAttention(\n",
       "              (k_proj): Linear(in_features=256, out_features=256, bias=True)\n",
       "              (v_proj): Linear(in_features=256, out_features=256, bias=True)\n",
       "              (q_proj): Linear(in_features=256, out_features=256, bias=True)\n",
       "              (out_proj): Linear(in_features=256, out_features=256, bias=True)\n",
       "            )\n",
       "            (self_attn_layer_norm): LayerNorm((256,), eps=1e-05, elementwise_affine=True)\n",
       "            (activation_fn): ReLU()\n",
       "            (fc1): Linear(in_features=256, out_features=2048, bias=True)\n",
       "            (fc2): Linear(in_features=2048, out_features=256, bias=True)\n",
       "            (final_layer_norm): LayerNorm((256,), eps=1e-05, elementwise_affine=True)\n",
       "          )\n",
       "        )\n",
       "      )\n",
       "      (decoder): DetrDecoder(\n",
       "        (layers): ModuleList(\n",
       "          (0-5): 6 x DetrDecoderLayer(\n",
       "            (self_attn): DetrAttention(\n",
       "              (k_proj): Linear(in_features=256, out_features=256, bias=True)\n",
       "              (v_proj): Linear(in_features=256, out_features=256, bias=True)\n",
       "              (q_proj): Linear(in_features=256, out_features=256, bias=True)\n",
       "              (out_proj): Linear(in_features=256, out_features=256, bias=True)\n",
       "            )\n",
       "            (activation_fn): ReLU()\n",
       "            (self_attn_layer_norm): LayerNorm((256,), eps=1e-05, elementwise_affine=True)\n",
       "            (encoder_attn): DetrAttention(\n",
       "              (k_proj): Linear(in_features=256, out_features=256, bias=True)\n",
       "              (v_proj): Linear(in_features=256, out_features=256, bias=True)\n",
       "              (q_proj): Linear(in_features=256, out_features=256, bias=True)\n",
       "              (out_proj): Linear(in_features=256, out_features=256, bias=True)\n",
       "            )\n",
       "            (encoder_attn_layer_norm): LayerNorm((256,), eps=1e-05, elementwise_affine=True)\n",
       "            (fc1): Linear(in_features=256, out_features=2048, bias=True)\n",
       "            (fc2): Linear(in_features=2048, out_features=256, bias=True)\n",
       "            (final_layer_norm): LayerNorm((256,), eps=1e-05, elementwise_affine=True)\n",
       "          )\n",
       "        )\n",
       "        (layernorm): LayerNorm((256,), eps=1e-05, elementwise_affine=True)\n",
       "      )\n",
       "    )\n",
       "    (class_labels_classifier): Linear(in_features=256, out_features=3, bias=True)\n",
       "    (bbox_predictor): DetrMLPPredictionHead(\n",
       "      (layers): ModuleList(\n",
       "        (0-1): 2 x Linear(in_features=256, out_features=256, bias=True)\n",
       "        (2): Linear(in_features=256, out_features=4, bias=True)\n",
       "      )\n",
       "    )\n",
       "  )\n",
       ")"
      ]
     },
     "execution_count": 11,
     "metadata": {},
     "output_type": "execute_result"
    }
   ],
   "source": [
    "%load_ext autoreload\n",
    "%autoreload 2\n",
    "\n",
    "from models import Detr\n",
    "from utils import load_config\n",
    "import torch\n",
    "\n",
    "torch.cuda.empty_cache()\n",
    "\n",
    "config = load_config(r\"configs\\train.yaml\")\n",
    "\n",
    "model = Detr(\n",
    "    train_mode=True,\n",
    "    with_gcn=False,\n",
    "    pretrained='facebook/detr-resnet-50',\n",
    "    checkpoint=None,\n",
    "    config=config)\n",
    "\n",
    "device = torch.device('cuda:0')\n",
    "model.to(device)"
   ]
  },
  {
   "cell_type": "code",
   "execution_count": 12,
   "metadata": {},
   "outputs": [
    {
     "name": "stderr",
     "output_type": "stream",
     "text": [
      "GPU available: True (cuda), used: True\n",
      "TPU available: False, using: 0 TPU cores\n",
      "HPU available: False, using: 0 HPUs\n"
     ]
    }
   ],
   "source": [
    "from pytorch_lightning.callbacks import ModelCheckpoint\n",
    "from pytorch_lightning.loggers import WandbLogger\n",
    "from pytorch_lightning import Trainer\n",
    "\n",
    "logger = WandbLogger(project='parallel_tables', name='encoder_pretraining_1')\n",
    "\n",
    "# Set up checkpointing and trainer\n",
    "checkpoint_callback = ModelCheckpoint(\n",
    "    monitor=\"validation/loss\",\n",
    "    filename=\"detr-{epoch:02d}-{validation/loss:.2f}\",\n",
    "    save_top_k=3,\n",
    "    mode=\"min\",\n",
    "    save_last=True,\n",
    "    dirpath=r\"C:\\Users\\tangy\\Downloads\\DETR-GFTE\\checkpoints\"\n",
    ")\n",
    "\n",
    "trainer = Trainer(\n",
    "    max_epochs=50,\n",
    "    log_every_n_steps=10,\n",
    "    logger=logger,\n",
    "    callbacks=[checkpoint_callback],\n",
    "    val_check_interval=0.5,  # Run validation 2 times per epoch\n",
    "    devices=1,\n",
    "    accelerator=\"gpu\",\n",
    "    gradient_clip_val=0.1,\n",
    "    accumulate_grad_batches=12\n",
    ")"
   ]
  },
  {
   "cell_type": "code",
   "execution_count": 13,
   "metadata": {},
   "outputs": [
    {
     "name": "stderr",
     "output_type": "stream",
     "text": [
      "Failed to detect the name of this notebook, you can set it manually with the WANDB_NOTEBOOK_NAME environment variable to enable code saving.\n",
      "wandb: Currently logged in as: tangh146 (tangh146-sutd-singapore-university-of-technology-design). Use `wandb login --relogin` to force relogin\n"
     ]
    },
    {
     "data": {
      "text/html": [
       "wandb version 0.17.8 is available!  To upgrade, please run:\n",
       " $ pip install wandb --upgrade"
      ],
      "text/plain": [
       "<IPython.core.display.HTML object>"
      ]
     },
     "metadata": {},
     "output_type": "display_data"
    },
    {
     "data": {
      "text/html": [
       "Tracking run with wandb version 0.17.5"
      ],
      "text/plain": [
       "<IPython.core.display.HTML object>"
      ]
     },
     "metadata": {},
     "output_type": "display_data"
    },
    {
     "data": {
      "text/html": [
       "Run data is saved locally in <code>.\\wandb\\run-20240830_034833-khcq5iyf</code>"
      ],
      "text/plain": [
       "<IPython.core.display.HTML object>"
      ]
     },
     "metadata": {},
     "output_type": "display_data"
    },
    {
     "data": {
      "text/html": [
       "Syncing run <strong><a href='https://wandb.ai/tangh146-sutd-singapore-university-of-technology-design/parallel_tables/runs/khcq5iyf' target=\"_blank\">encoder_pretraining_1</a></strong> to <a href='https://wandb.ai/tangh146-sutd-singapore-university-of-technology-design/parallel_tables' target=\"_blank\">Weights & Biases</a> (<a href='https://wandb.me/run' target=\"_blank\">docs</a>)<br/>"
      ],
      "text/plain": [
       "<IPython.core.display.HTML object>"
      ]
     },
     "metadata": {},
     "output_type": "display_data"
    },
    {
     "data": {
      "text/html": [
       " View project at <a href='https://wandb.ai/tangh146-sutd-singapore-university-of-technology-design/parallel_tables' target=\"_blank\">https://wandb.ai/tangh146-sutd-singapore-university-of-technology-design/parallel_tables</a>"
      ],
      "text/plain": [
       "<IPython.core.display.HTML object>"
      ]
     },
     "metadata": {},
     "output_type": "display_data"
    },
    {
     "data": {
      "text/html": [
       " View run at <a href='https://wandb.ai/tangh146-sutd-singapore-university-of-technology-design/parallel_tables/runs/khcq5iyf' target=\"_blank\">https://wandb.ai/tangh146-sutd-singapore-university-of-technology-design/parallel_tables/runs/khcq5iyf</a>"
      ],
      "text/plain": [
       "<IPython.core.display.HTML object>"
      ]
     },
     "metadata": {},
     "output_type": "display_data"
    },
    {
     "name": "stderr",
     "output_type": "stream",
     "text": [
      "c:\\Users\\tangy\\anaconda3\\Lib\\site-packages\\pytorch_lightning\\callbacks\\model_checkpoint.py:652: Checkpoint directory C:\\Users\\tangy\\Downloads\\DETR-GFTE\\checkpoints exists and is not empty.\n",
      "LOCAL_RANK: 0 - CUDA_VISIBLE_DEVICES: [0]\n",
      "\n",
      "  | Name  | Type                   | Params | Mode \n",
      "---------------------------------------------------------\n",
      "0 | model | DetrForObjectDetection | 41.5 M | train\n",
      "---------------------------------------------------------\n",
      "41.3 M    Trainable params\n",
      "222 K     Non-trainable params\n",
      "41.5 M    Total params\n",
      "166.008   Total estimated model params size (MB)\n"
     ]
    },
    {
     "data": {
      "application/vnd.jupyter.widget-view+json": {
       "model_id": "fbb99d3cc8e7483294323e1ee777bcdf",
       "version_major": 2,
       "version_minor": 0
      },
      "text/plain": [
       "Sanity Checking: |          | 0/? [00:00<?, ?it/s]"
      ]
     },
     "metadata": {},
     "output_type": "display_data"
    },
    {
     "name": "stderr",
     "output_type": "stream",
     "text": [
      "c:\\Users\\tangy\\anaconda3\\Lib\\site-packages\\pytorch_lightning\\trainer\\connectors\\data_connector.py:424: The 'val_dataloader' does not have many workers which may be a bottleneck. Consider increasing the value of the `num_workers` argument` to `num_workers=11` in the `DataLoader` to improve performance.\n",
      "c:\\Users\\tangy\\anaconda3\\Lib\\site-packages\\pytorch_lightning\\trainer\\connectors\\data_connector.py:424: The 'train_dataloader' does not have many workers which may be a bottleneck. Consider increasing the value of the `num_workers` argument` to `num_workers=11` in the `DataLoader` to improve performance.\n"
     ]
    },
    {
     "data": {
      "application/vnd.jupyter.widget-view+json": {
       "model_id": "73b39379fbda4def9b6dc8eba1be02e3",
       "version_major": 2,
       "version_minor": 0
      },
      "text/plain": [
       "Training: |          | 0/? [00:00<?, ?it/s]"
      ]
     },
     "metadata": {},
     "output_type": "display_data"
    },
    {
     "data": {
      "application/vnd.jupyter.widget-view+json": {
       "model_id": "86f18fa58a8a43a1a885ee0d59b99cb1",
       "version_major": 2,
       "version_minor": 0
      },
      "text/plain": [
       "Validation: |          | 0/? [00:00<?, ?it/s]"
      ]
     },
     "metadata": {},
     "output_type": "display_data"
    },
    {
     "name": "stderr",
     "output_type": "stream",
     "text": [
      "c:\\Users\\tangy\\anaconda3\\Lib\\site-packages\\pytorch_lightning\\utilities\\data.py:78: Trying to infer the `batch_size` from an ambiguous collection. The batch size we found is 3. To avoid any miscalculations, use `self.log(..., batch_size=batch_size)`.\n",
      "c:\\Users\\tangy\\anaconda3\\Lib\\site-packages\\pytorch_lightning\\trainer\\call.py:54: Detected KeyboardInterrupt, attempting graceful shutdown...\n"
     ]
    }
   ],
   "source": [
    "trainer.fit(model)"
   ]
  }
 ],
 "metadata": {
  "kernelspec": {
   "display_name": "Python 3",
   "language": "python",
   "name": "python3"
  },
  "language_info": {
   "codemirror_mode": {
    "name": "ipython",
    "version": 3
   },
   "file_extension": ".py",
   "mimetype": "text/x-python",
   "name": "python",
   "nbconvert_exporter": "python",
   "pygments_lexer": "ipython3",
   "version": "3.12.4"
  }
 },
 "nbformat": 4,
 "nbformat_minor": 2
}
