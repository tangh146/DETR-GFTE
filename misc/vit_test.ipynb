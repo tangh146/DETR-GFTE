{
 "cells": [
  {
   "cell_type": "code",
   "execution_count": 5,
   "metadata": {},
   "outputs": [
    {
     "name": "stderr",
     "output_type": "stream",
     "text": [
      "c:\\Users\\remote desktop\\AppData\\Local\\Programs\\Python\\Python312\\Lib\\site-packages\\tqdm\\auto.py:21: TqdmWarning: IProgress not found. Please update jupyter and ipywidgets. See https://ipywidgets.readthedocs.io/en/stable/user_install.html\n",
      "  from .autonotebook import tqdm as notebook_tqdm\n",
      "c:\\Users\\remote desktop\\AppData\\Local\\Programs\\Python\\Python312\\Lib\\site-packages\\huggingface_hub\\file_download.py:159: UserWarning: `huggingface_hub` cache-system uses symlinks by default to efficiently store duplicated files but your machine does not support them in C:\\Users\\remote desktop\\.cache\\huggingface\\hub\\models--google--vit-base-patch16-384. Caching files will still work but in a degraded version that might require more space on your disk. This warning can be disabled by setting the `HF_HUB_DISABLE_SYMLINKS_WARNING` environment variable. For more details, see https://huggingface.co/docs/huggingface_hub/how-to-cache#limitations.\n",
      "To support symlinks on Windows, you either need to activate Developer Mode or to run Python as an administrator. In order to see activate developer mode, see this article: https://docs.microsoft.com/en-us/windows/apps/get-started/enable-your-device-for-development\n",
      "  warnings.warn(message)\n",
      "Some weights of ViTModel were not initialized from the model checkpoint at google/vit-base-patch16-384 and are newly initialized: ['vit.pooler.dense.bias', 'vit.pooler.dense.weight']\n",
      "You should probably TRAIN this model on a down-stream task to be able to use it for predictions and inference.\n"
     ]
    }
   ],
   "source": [
    "import torch\n",
    "import torch.nn as nn\n",
    "from transformers import ViTModel, ViTConfig\n",
    "\n",
    "# Load the pretrained ViT model\n",
    "model_name = \"google/vit-base-patch16-384\"\n",
    "vit_model = ViTModel.from_pretrained(model_name)\n",
    "\n",
    "# Define a self-attention classifier\n",
    "class SelfAttentionClassifier(nn.Module):\n",
    "    def __init__(self, embed_dim, num_heads, num_classes):\n",
    "        super(SelfAttentionClassifier, self).__init__()\n",
    "        self.self_attn = nn.MultiheadAttention(embed_dim, num_heads)\n",
    "        self.classifier = nn.Linear(embed_dim, num_classes)\n",
    "\n",
    "    def forward(self, x):\n",
    "        attn_output, attn_weights = self.self_attn(x, x, x)\n",
    "        logits = self.classifier(attn_output)\n",
    "        return logits, attn_weights\n",
    "\n",
    "# Attach the self-attention classifier to the ViT model\n",
    "class ViTWithClassifier(nn.Module):\n",
    "    def __init__(self, vit_model, num_heads, num_classes):\n",
    "        super(ViTWithClassifier, self).__init__()\n",
    "        self.vit_model = vit_model\n",
    "        self.classifier = SelfAttentionClassifier(\n",
    "            embed_dim=vit_model.config.hidden_size,\n",
    "            num_heads=num_heads,\n",
    "            num_classes=num_classes\n",
    "        )\n",
    "\n",
    "    def forward(self, x):\n",
    "        outputs = self.vit_model(pixel_values=x)\n",
    "        last_hidden_state = outputs.last_hidden_state  # shape: (batch_size, seq_len, hidden_size)\n",
    "        # Exclude the class token and pass the patch embeddings to the classifier\n",
    "        patch_embeddings = last_hidden_state[:, 1:, :]\n",
    "        logits, attn_weights = self.classifier(patch_embeddings)\n",
    "        return logits, attn_weights\n",
    "\n",
    "# Initialize the model with the classifier\n",
    "num_classes = 10  # Number of target classes for your classification task\n",
    "num_heads = 8  # Number of attention heads\n",
    "model = ViTWithClassifier(vit_model, num_heads, num_classes)"
   ]
  }
 ],
 "metadata": {
  "kernelspec": {
   "display_name": "Python 3",
   "language": "python",
   "name": "python3"
  },
  "language_info": {
   "codemirror_mode": {
    "name": "ipython",
    "version": 3
   },
   "file_extension": ".py",
   "mimetype": "text/x-python",
   "name": "python",
   "nbconvert_exporter": "python",
   "pygments_lexer": "ipython3",
   "version": "3.12.4"
  }
 },
 "nbformat": 4,
 "nbformat_minor": 2
}
