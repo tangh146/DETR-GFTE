{
 "cells": [
  {
   "cell_type": "code",
   "execution_count": 2,
   "metadata": {},
   "outputs": [],
   "source": [
    "def combine_jsonl_files(input_files, output_file):\n",
    "    with open(output_file, 'w') as outfile:\n",
    "        for input_file in input_files:\n",
    "            with open(input_file, 'r') as infile:\n",
    "                for line in infile:\n",
    "                    outfile.write(line)\n",
    "\n",
    "# Example usage:\n",
    "input_files = [\n",
    "    r'C:\\Users\\tangy\\Downloads\\DETR-GFTE\\datasets\\pure_ptn_val.jsonl',\n",
    "    r'C:\\Users\\tangy\\Downloads\\DETR-GFTE\\datasets\\stn_fintabnet_val.jsonl',\n",
    "    r'C:\\Users\\tangy\\Downloads\\DETR-GFTE\\datasets\\stn_marketing_val.jsonl']\n",
    "output_file = 'unified_val.jsonl'  # Output JSONL file\n",
    "\n",
    "combine_jsonl_files(input_files, output_file)"
   ]
  }
 ],
 "metadata": {
  "kernelspec": {
   "display_name": "base",
   "language": "python",
   "name": "python3"
  },
  "language_info": {
   "codemirror_mode": {
    "name": "ipython",
    "version": 3
   },
   "file_extension": ".py",
   "mimetype": "text/x-python",
   "name": "python",
   "nbconvert_exporter": "python",
   "pygments_lexer": "ipython3",
   "version": "3.12.4"
  }
 },
 "nbformat": 4,
 "nbformat_minor": 2
}
