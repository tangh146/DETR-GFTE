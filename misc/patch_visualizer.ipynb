{
 "cells": [
  {
   "cell_type": "code",
   "execution_count": 4,
   "metadata": {},
   "outputs": [
    {
     "name": "stdout",
     "output_type": "stream",
     "text": [
      "Output saved to C:\\Users\\remote desktop\\Downloads\\visiontransformer\\output.png\n"
     ]
    }
   ],
   "source": [
    "import cv2\n",
    "import numpy as np\n",
    "\n",
    "def draw_patch_grid(image_path, patch_size=12, output_path=r'C:\\Users\\remote desktop\\Downloads\\visiontransformer\\output.png'):\n",
    "    # Load the image\n",
    "    image = cv2.imread(image_path)\n",
    "    if image is None:\n",
    "        print(f\"Error: Unable to load image at {image_path}\")\n",
    "        return\n",
    "    \n",
    "    # Get image dimensions\n",
    "    height, width, _ = image.shape\n",
    "    \n",
    "    # Draw horizontal lines\n",
    "    for y in range(0, height, patch_size):\n",
    "        cv2.line(image, (0, y), (width, y), (0, 255, 0), 1)\n",
    "    \n",
    "    # Draw vertical lines\n",
    "    for x in range(0, width, patch_size):\n",
    "        cv2.line(image, (x, 0), (x, height), (0, 255, 0), 1)\n",
    "    \n",
    "    # Save the output image\n",
    "    cv2.imwrite(output_path, image)\n",
    "    print(f\"Output saved to {output_path}\")\n",
    "\n",
    "# Example usage\n",
    "draw_patch_grid(r\"C:\\Users\\remote desktop\\Downloads\\unitable-main\\dataset\\mini_pubtabnet\\val\\PMC1626454_002_00.png\")"
   ]
  }
 ],
 "metadata": {
  "kernelspec": {
   "display_name": "Python 3",
   "language": "python",
   "name": "python3"
  },
  "language_info": {
   "codemirror_mode": {
    "name": "ipython",
    "version": 3
   },
   "file_extension": ".py",
   "mimetype": "text/x-python",
   "name": "python",
   "nbconvert_exporter": "python",
   "pygments_lexer": "ipython3",
   "version": "3.12.4"
  }
 },
 "nbformat": 4,
 "nbformat_minor": 2
}
