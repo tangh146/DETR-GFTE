{
 "cells": [
  {
   "cell_type": "markdown",
   "metadata": {},
   "source": [
    "convert pubtabnet annotation format to COCO-like format for the DETR model"
   ]
  },
  {
   "cell_type": "code",
   "execution_count": null,
   "metadata": {},
   "outputs": [
    {
     "name": "stdout",
     "output_type": "stream",
     "text": [
      "42\n"
     ]
    }
   ],
   "source": [
    "import sys, os\n",
    "sys.path.insert(0, os.path.abspath('..'))\n",
    "\n",
    "import json\n",
    "from utils import get_table_grid\n",
    "\n",
    "def filter_and_process_jsonl(input_path, output_path, split):\n",
    "    with open(input_path, 'r', encoding=\"utf8\") as infile, open(output_path, 'w', encoding=\"utf8\") as outfile:\n",
    "        max_classes = 0\n",
    "        for line in infile:\n",
    "            abort = False\n",
    "\n",
    "            # Parse the JSON line\n",
    "            data = json.loads(line)\n",
    "            \n",
    "            # Check if split == \"train\"\n",
    "            if data[\"split\"] == split:\n",
    "                bboxes = []\n",
    "                for cell in data['html']['cells']:\n",
    "                    if 'bbox' in cell:\n",
    "                        bboxes.append(cell['bbox'])\n",
    "                    else:\n",
    "                        # for empty cells, we give it a FALSY value\n",
    "                        bboxes.append([])\n",
    "\n",
    "                # to improve the respresentative power of the hidden states, we will be using classifying the bbox\n",
    "                # into the number of connected neighbors\n",
    "                thead_grid, tbody_grid = get_table_grid(''.join(data['html']['structure']['tokens']))\n",
    "                table_grid = thead_grid + tbody_grid\n",
    "                for row in table_grid:\n",
    "                    if len(row) != len(table_grid[0]):\n",
    "                        abort = True\n",
    "                if abort: continue\n",
    "\n",
    "                annotations = []\n",
    "                for cell_i, bbox in enumerate(bboxes):\n",
    "                    if bbox:\n",
    "                        # convert to coco format\n",
    "                        xmin, ymin, xmax, ymax = bbox\n",
    "                        width = xmax - xmin\n",
    "                        height = ymax - ymin\n",
    "                        area = width * height\n",
    "\n",
    "                        neighbors = []\n",
    "                        # get number of connected neighbors\n",
    "                        for row_i, row in enumerate(table_grid):\n",
    "                            for col_i, item in enumerate(row):\n",
    "                                if item == cell_i:\n",
    "                                    neighbors.extend([\n",
    "                                        table_grid[max(row_i-1, 0)][col_i],\n",
    "                                        table_grid[row_i][min(col_i+1, len(table_grid[0])-1)],\n",
    "                                        table_grid[min(row_i+1, len(table_grid)-1)][col_i],\n",
    "                                        table_grid[row_i][max(col_i-1, 0)]\n",
    "                                        ])\n",
    "                        \n",
    "                        # isolate unique neighbor indices and remove itself\n",
    "                        neighbors = set(neighbors)\n",
    "                        neighbors.discard(cell_i)\n",
    "                        category_id = len(neighbors)\n",
    "\n",
    "\n",
    "                        if category_id > max_classes: max_classes = category_id\n",
    "\n",
    "                        annotation = {\n",
    "                            'bbox': [xmin, ymin, width, height],\n",
    "                            'category_id': category_id,\n",
    "                            'area': area\n",
    "                        }\n",
    "                        annotations.append(annotation)\n",
    "\n",
    "                output = {\n",
    "                    'filename': data['filename'],\n",
    "                    'image_id': data['imgid'],\n",
    "                    'html': data['html']['structure']['tokens'],\n",
    "                    'annotations': annotations\n",
    "                }\n",
    "\n",
    "                # Write the output JSON object to the file with a newline character\n",
    "                outfile.write(json.dumps(output) + '\\n')\n",
    "\n",
    "        # max is 64 for pubtabnet\n",
    "        print(max_classes)\n",
    "\n",
    "input_jsonl_path = r\"C:\\Users\\remote desktop\\Downloads\\pubtabnet\\PubTabNet_2.0.0.jsonl\"\n",
    "output_jsonl_path = r\"C:\\Users\\remote desktop\\Downloads\\DETR-GFTE\\datasets\\detr\\stage3\\val.jsonl\"\n",
    "\n",
    "filter_and_process_jsonl(input_jsonl_path, output_jsonl_path, split=\"val\")"
   ]
  }
 ],
 "metadata": {
  "kernelspec": {
   "display_name": "Python 3",
   "language": "python",
   "name": "python3"
  },
  "language_info": {
   "codemirror_mode": {
    "name": "ipython",
    "version": 3
   },
   "file_extension": ".py",
   "mimetype": "text/x-python",
   "name": "python",
   "nbconvert_exporter": "python",
   "pygments_lexer": "ipython3",
   "version": "3.12.4"
  }
 },
 "nbformat": 4,
 "nbformat_minor": 2
}
