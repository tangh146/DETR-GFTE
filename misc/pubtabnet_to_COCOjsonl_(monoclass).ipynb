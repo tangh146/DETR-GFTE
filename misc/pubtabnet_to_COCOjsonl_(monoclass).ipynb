{
 "cells": [
  {
   "cell_type": "markdown",
   "metadata": {},
   "source": [
    "convert pubtabnet annotation format to COCO-like format for the model"
   ]
  },
  {
   "cell_type": "code",
   "execution_count": 2,
   "metadata": {},
   "outputs": [],
   "source": [
    "import json\n",
    "\n",
    "def filter_and_process_jsonl(input_path, output_path):\n",
    "    with open(input_path, 'r', encoding=\"utf8\") as infile, open(output_path, 'w', encoding=\"utf8\") as outfile:\n",
    "        for line in infile:\n",
    "            # Parse the JSON line\n",
    "            data = json.loads(line)\n",
    "            \n",
    "            # Check if split == \"train\"\n",
    "            if data[\"split\"] == \"train\":\n",
    "                bbox = []\n",
    "                for cell in data['html']['cells']:\n",
    "                    if 'bbox' in cell:\n",
    "                        bbox.append(cell['bbox'])\n",
    "                    else:\n",
    "                        # for empty cells, we define the bbox to be as small and out of the way as possible\n",
    "                        # such as to be automatically voided as candidate gt bboxes when calculating iou scores\n",
    "                        bbox.append([0,0,0.01,0.01])\n",
    "\n",
    "                # in this case we do not need bbox classification, so there is only 1 class\n",
    "                category_id = [0] * len(bbox)\n",
    "\n",
    "                annotations = []\n",
    "                for b, c in zip(bbox, category_id):\n",
    "                    xmin, ymin, xmax, ymax = b\n",
    "                    width = xmax - xmin\n",
    "                    height = ymax - ymin\n",
    "                    area = width * height\n",
    "                    annotation = {\n",
    "                        'bbox': [xmin, ymin, width, height],\n",
    "                        'category_id': c,\n",
    "                        'area': area\n",
    "                    }\n",
    "                    annotations.append(annotation)\n",
    "\n",
    "                output = {\n",
    "                    'filename': data['filename'],\n",
    "                    'image_id': data['imgid'],\n",
    "                    'html': data['html']['structure']['tokens'],\n",
    "                    'annotations': annotations\n",
    "                }\n",
    "\n",
    "                # Write the output JSON object to the file with a newline character\n",
    "                outfile.write(json.dumps(output) + '\\n')\n",
    "\n",
    "input_jsonl_path = r\"C:\\Users\\tangy\\Downloads\\DETR-GFTE\\datasets\\ptn_examples_val\\PubTabNet_Examples-val.jsonl\"\n",
    "output_jsonl_path = r\"C:\\Users\\tangy\\Downloads\\DETR-GFTE\\datasets\\ptn_examples_val\\ptn_examples_val.jsonl\"\n",
    "\n",
    "filter_and_process_jsonl(input_jsonl_path, output_jsonl_path)"
   ]
  }
 ],
 "metadata": {
  "kernelspec": {
   "display_name": "Python 3",
   "language": "python",
   "name": "python3"
  },
  "language_info": {
   "codemirror_mode": {
    "name": "ipython",
    "version": 3
   },
   "file_extension": ".py",
   "mimetype": "text/x-python",
   "name": "python",
   "nbconvert_exporter": "python",
   "pygments_lexer": "ipython3",
   "version": "3.12.4"
  }
 },
 "nbformat": 4,
 "nbformat_minor": 2
}
