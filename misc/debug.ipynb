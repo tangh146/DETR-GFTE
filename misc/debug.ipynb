{
 "cells": [
  {
   "cell_type": "code",
   "execution_count": 29,
   "metadata": {},
   "outputs": [],
   "source": [
    "from preprocessing import preprocess_data\n",
    "from data import TrainDataset\n",
    "\n",
    "dataset = TrainDataset(r'C:\\Users\\remote desktop\\Downloads\\unitable-main\\dataset\\pubtabnet_test\\train', r\"C:\\Users\\remote desktop\\Downloads\\unitable-main\\dataset\\pubtabnet_test\\train\\pubtabnet_test_train.jsonl\", 16,384)\n",
    "for i in range(16):\n",
    "    sample = dataset[i]"
   ]
  }
 ],
 "metadata": {
  "kernelspec": {
   "display_name": "Python 3",
   "language": "python",
   "name": "python3"
  },
  "language_info": {
   "codemirror_mode": {
    "name": "ipython",
    "version": 3
   },
   "file_extension": ".py",
   "mimetype": "text/x-python",
   "name": "python",
   "nbconvert_exporter": "python",
   "pygments_lexer": "ipython3",
   "version": "3.12.4"
  }
 },
 "nbformat": 4,
 "nbformat_minor": 2
}
