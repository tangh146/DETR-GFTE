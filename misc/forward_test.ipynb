{
 "cells": [
  {
   "cell_type": "code",
   "execution_count": 1,
   "metadata": {},
   "outputs": [
    {
     "name": "stderr",
     "output_type": "stream",
     "text": [
      "c:\\Users\\remote desktop\\AppData\\Local\\Programs\\Python\\Python312\\Lib\\site-packages\\tqdm\\auto.py:21: TqdmWarning: IProgress not found. Please update jupyter and ipywidgets. See https://ipywidgets.readthedocs.io/en/stable/user_install.html\n",
      "  from .autonotebook import tqdm as notebook_tqdm\n",
      "Some weights of ViTModel were not initialized from the model checkpoint at google/vit-base-patch16-384 and are newly initialized: ['vit.pooler.dense.bias', 'vit.pooler.dense.weight']\n",
      "You should probably TRAIN this model on a down-stream task to be able to use it for predictions and inference.\n"
     ]
    },
    {
     "name": "stdout",
     "output_type": "stream",
     "text": [
      "Patch embeddings shape: torch.Size([1, 576, 768])\n"
     ]
    }
   ],
   "source": [
    "from data import TrainDataset\n",
    "from models import ViTWithClassifier\n",
    "import torchvision.transforms as transforms\n",
    "\n",
    "dataset = TrainDataset(r'C:\\Users\\remote desktop\\Downloads\\unitable-main\\dataset\\pubtabnet_test\\val', r\"C:\\Users\\remote desktop\\Downloads\\unitable-main\\dataset\\pubtabnet_test\\val\\pubtabnet_test_val.jsonl\", 16,384)\n",
    "\n",
    "model = ViTWithClassifier(num_heads=8)\n",
    "\n",
    "# Define transformation to convert PIL image to tensor\n",
    "preprocess = transforms.ToTensor()\n",
    "\n",
    "# Load the first sample from the dataset\n",
    "image, gt_patch_indices = dataset[0]\n",
    "\n",
    "# Convert the image to tensor and add batch dimension\n",
    "image = preprocess(image).unsqueeze(0)\n",
    "\n",
    "# Pass the image through the model\n",
    "patch_embeddings = model(image)\n",
    "\n",
    "# Print the shape of the patch embeddings\n",
    "print(\"Patch embeddings shape:\", patch_embeddings.shape)"
   ]
  }
 ],
 "metadata": {
  "kernelspec": {
   "display_name": "Python 3",
   "language": "python",
   "name": "python3"
  },
  "language_info": {
   "codemirror_mode": {
    "name": "ipython",
    "version": 3
   },
   "file_extension": ".py",
   "mimetype": "text/x-python",
   "name": "python",
   "nbconvert_exporter": "python",
   "pygments_lexer": "ipython3",
   "version": "3.12.4"
  }
 },
 "nbformat": 4,
 "nbformat_minor": 2
}
