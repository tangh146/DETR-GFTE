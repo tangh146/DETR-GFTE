{
 "cells": [
  {
   "cell_type": "code",
   "execution_count": 6,
   "metadata": {},
   "outputs": [
    {
     "name": "stdout",
     "output_type": "stream",
     "text": [
      "max bbox padding: 2061\n",
      "max table width padding: 80\n",
      "max table height padding: 89\n",
      "deformity count: 2017\n"
     ]
    }
   ],
   "source": [
    "import sys, os\n",
    "sys.path.insert(0, os.path.abspath('..'))\n",
    "\n",
    "import json\n",
    "from utils import get_table_grid\n",
    "\n",
    "def process_jsonl(file_path, output_file_path):\n",
    "    max_annotations_length = 0\n",
    "    max_table_width = 0\n",
    "    max_table_height = 0\n",
    "    impurities = 0\n",
    "\n",
    "    with open(file_path, 'r') as file, open(output_file_path, 'w') as output_file:\n",
    "        for line in file:\n",
    "\n",
    "            pure = True\n",
    "\n",
    "            data = json.loads(line)\n",
    "            annotations = data.get(\"annotations\")\n",
    "            html = data.get(\"html\")\n",
    "            html = ''.join(html)\n",
    "            \n",
    "            max_annotations_length = max(max_annotations_length, len(annotations))\n",
    "\n",
    "            thead_grid, tbody_grid = get_table_grid(html)\n",
    "            table_grid = thead_grid + tbody_grid\n",
    "            max_table_width = max(max_table_width, len(table_grid[0]))\n",
    "            max_table_height = max(max_table_height, len(table_grid))\n",
    "\n",
    "            base_width = len(table_grid[0])\n",
    "            for row in table_grid:\n",
    "                if len(row) != base_width:\n",
    "                    pure = False\n",
    "\n",
    "            if pure:\n",
    "                # Write the JSON object to the new JSONL file\n",
    "                output_file.write(json.dumps(data) + '\\n')\n",
    "            else:\n",
    "                impurities += 1\n",
    "                \n",
    "    print(f\"max bbox padding: {max_annotations_length}\")\n",
    "    print(f\"max table width padding: {max_table_width}\")\n",
    "    print(f\"max table height padding: {max_table_height}\")\n",
    "    print(f\"deformity count: {impurities}\")\n",
    "\n",
    "file_path = r'C:\\Users\\tangy\\Downloads\\DETR-GFTE\\datasets\\ptn_train.jsonl'\n",
    "output_file_path = r'C:\\Users\\tangy\\Downloads\\DETR-GFTE\\datasets\\pure_ptn_train.jsonl'\n",
    "\n",
    "html_lists = process_jsonl(file_path, output_file_path)\n"
   ]
  },
  {
   "cell_type": "code",
   "execution_count": 3,
   "metadata": {},
   "outputs": [],
   "source": [
    "import json\n",
    "import os\n",
    "from PIL import Image\n",
    "\n",
    "def add_image_size_to_jsonl(input_jsonl_path, images_dir, output_jsonl_path):\n",
    "    # Open input and output JSONL files\n",
    "    with open(input_jsonl_path, 'r') as infile, open(output_jsonl_path, 'w') as outfile:\n",
    "        for line in infile:\n",
    "            try:\n",
    "                # Parse the JSON line\n",
    "                json_obj = json.loads(line)\n",
    "                \n",
    "                # Get the filename from the JSON object\n",
    "                filename = json_obj.get('filename')\n",
    "                \n",
    "                if filename:\n",
    "                    # Construct the full path to the image file\n",
    "                    image_path = os.path.join(images_dir, filename)\n",
    "                    \n",
    "                    # Open the image and get its dimensions\n",
    "                    with Image.open(image_path) as img:\n",
    "                        width, height = img.size\n",
    "                        # Add the new field with the image dimensions\n",
    "                        json_obj['orig_size'] = {'width': width, 'height': height}\n",
    "                \n",
    "                # Write the updated JSON object to the new file\n",
    "                outfile.write(json.dumps(json_obj) + '\\n')\n",
    "            \n",
    "            except Exception as e:\n",
    "                # Handle any errors (e.g., missing files, corrupt images)\n",
    "                print(f\"Error processing line: {e}\")\n",
    "\n",
    "# Example usage\n",
    "input_jsonl_path = r'C:\\Users\\tangy\\Downloads\\DETR-GFTE\\datasets\\gnet_val.jsonl'   # Path to the input .jsonl file\n",
    "images_dir = r'C:\\Users\\tangy\\Downloads\\DETR-GFTE\\datasets\\unified_val'         # Directory containing the images\n",
    "output_jsonl_path = r'C:\\Users\\tangy\\Downloads\\DETR-GFTE\\datasets\\gnet_val1.jsonl' # Path to the output .jsonl file\n",
    "\n",
    "add_image_size_to_jsonl(input_jsonl_path, images_dir, output_jsonl_path)\n"
   ]
  }
 ],
 "metadata": {
  "kernelspec": {
   "display_name": "base",
   "language": "python",
   "name": "python3"
  },
  "language_info": {
   "codemirror_mode": {
    "name": "ipython",
    "version": 3
   },
   "file_extension": ".py",
   "mimetype": "text/x-python",
   "name": "python",
   "nbconvert_exporter": "python",
   "pygments_lexer": "ipython3",
   "version": "3.12.4"
  }
 },
 "nbformat": 4,
 "nbformat_minor": 2
}
