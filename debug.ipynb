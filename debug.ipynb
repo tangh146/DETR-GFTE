{
 "cells": [
  {
   "cell_type": "code",
   "execution_count": 4,
   "metadata": {},
   "outputs": [
    {
     "name": "stdout",
     "output_type": "stream",
     "text": [
      "loaders created\n"
     ]
    },
    {
     "ename": "ValueError",
     "evalue": "too many values to unpack (expected 2)",
     "output_type": "error",
     "traceback": [
      "\u001b[1;31m---------------------------------------------------------------------------\u001b[0m",
      "\u001b[1;31mValueError\u001b[0m                                Traceback (most recent call last)",
      "Cell \u001b[1;32mIn[4], line 33\u001b[0m\n\u001b[0;32m     30\u001b[0m         \u001b[38;5;28;01mbreak\u001b[39;00m\n\u001b[0;32m     32\u001b[0m \u001b[38;5;66;03m# Usage:\u001b[39;00m\n\u001b[1;32m---> 33\u001b[0m \u001b[43mdebug_dataloader\u001b[49m\u001b[43m(\u001b[49m\u001b[43m)\u001b[49m\n",
      "Cell \u001b[1;32mIn[4], line 12\u001b[0m, in \u001b[0;36mdebug_dataloader\u001b[1;34m()\u001b[0m\n\u001b[0;32m      9\u001b[0m \u001b[38;5;28mprint\u001b[39m(\u001b[38;5;124m'\u001b[39m\u001b[38;5;124mloaders created\u001b[39m\u001b[38;5;124m'\u001b[39m)\n\u001b[0;32m     11\u001b[0m \u001b[38;5;66;03m# Iterate through the DataLoader\u001b[39;00m\n\u001b[1;32m---> 12\u001b[0m \u001b[38;5;28;01mfor\u001b[39;00m i, (data, gt_classes) \u001b[38;5;129;01min\u001b[39;00m \u001b[38;5;28menumerate\u001b[39m(train_loader):\n\u001b[0;32m     13\u001b[0m     \u001b[38;5;28mprint\u001b[39m(\u001b[38;5;124mf\u001b[39m\u001b[38;5;124m\"\u001b[39m\u001b[38;5;124mBatch \u001b[39m\u001b[38;5;132;01m{\u001b[39;00mi\u001b[38;5;250m \u001b[39m\u001b[38;5;241m+\u001b[39m\u001b[38;5;250m \u001b[39m\u001b[38;5;241m1\u001b[39m\u001b[38;5;132;01m}\u001b[39;00m\u001b[38;5;124m\"\u001b[39m)\n\u001b[0;32m     15\u001b[0m     \u001b[38;5;66;03m# Print Data object details\u001b[39;00m\n",
      "\u001b[1;31mValueError\u001b[0m: too many values to unpack (expected 2)"
     ]
    }
   ],
   "source": [
    "from gnet_data import create_dataloaders\n",
    "\n",
    "def debug_dataloader():\n",
    "    # Create the dataloader\n",
    "    train_loader, _ = create_dataloaders(r'C:\\Users\\remote desktop\\Downloads\\DETR-GFTE\\datasets\\gnet_train.jsonl',\n",
    "                                         r'C:\\Users\\remote desktop\\Downloads\\DETR-GFTE\\datasets\\gnet_val.jsonl',\n",
    "                                         batch_size=8, num_workers=8)\n",
    "    \n",
    "    print('loaders created')\n",
    "\n",
    "    # Iterate through the DataLoader\n",
    "    for i, (data, gt_classes) in enumerate(train_loader):\n",
    "        print(f\"Batch {i + 1}\")\n",
    "        \n",
    "        # Print Data object details\n",
    "        print(\"Data object (batch):\")\n",
    "        print(f\"  Number of nodes (x.shape): {data.x.shape}\")\n",
    "        print(f\"  Edge index shape: {data.edge_index.shape}\")\n",
    "        print(f\"  Batch tensor: {getattr(data, 'batch', 'No batch tensor')}\")\n",
    "\n",
    "        # Print GT classes details\n",
    "        print(\"Ground truth (gt_classes):\")\n",
    "        print(f\"  GT classes shape: {gt_classes.shape}\")\n",
    "        print(f\"  GT classes dtype: {gt_classes.dtype}\")\n",
    "\n",
    "        # Check if the GT classes are correctly padded\n",
    "        print(f\"  Padded GT classes (batch_first): {gt_classes}\")\n",
    "        \n",
    "        # Just run one batch to check; remove this if you want to check all batches\n",
    "        break\n",
    "\n",
    "# Usage:\n",
    "debug_dataloader()\n"
   ]
  }
 ],
 "metadata": {
  "kernelspec": {
   "display_name": "Python 3",
   "language": "python",
   "name": "python3"
  },
  "language_info": {
   "codemirror_mode": {
    "name": "ipython",
    "version": 3
   },
   "file_extension": ".py",
   "mimetype": "text/x-python",
   "name": "python",
   "nbconvert_exporter": "python",
   "pygments_lexer": "ipython3",
   "version": "3.12.4"
  }
 },
 "nbformat": 4,
 "nbformat_minor": 2
}
